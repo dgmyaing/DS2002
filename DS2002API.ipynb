{
  "nbformat": 4,
  "nbformat_minor": 0,
  "metadata": {
    "colab": {
      "provenance": [],
      "authorship_tag": "ABX9TyP1ZpSGMblB/br0vkzU+Gkp",
      "include_colab_link": true
    },
    "kernelspec": {
      "name": "python3",
      "display_name": "Python 3"
    },
    "language_info": {
      "name": "python"
    }
  },
  "cells": [
    {
      "cell_type": "markdown",
      "metadata": {
        "id": "view-in-github",
        "colab_type": "text"
      },
      "source": [
        "<a href=\"https://colab.research.google.com/github/dgmyaing/DS2002/blob/main/DS2002API.ipynb\" target=\"_parent\"><img src=\"https://colab.research.google.com/assets/colab-badge.svg\" alt=\"Open In Colab\"/></a>"
      ]
    },
    {
      "cell_type": "code",
      "source": [
        "!pip install yahooquery\n",
        "import os\n",
        "import json\n",
        "import pprint\n",
        "import requests\n",
        "import requests.exceptions\n",
        "import pandas as pd\n",
        "from yahooquery import Ticker\n",
        "#don't think i needed to install yahooquery but just in case I did\n"
      ],
      "metadata": {
        "colab": {
          "base_uri": "https://localhost:8080/"
        },
        "collapsed": true,
        "id": "IOw0i0VnD19R",
        "outputId": "83b3bf12-9702-4f00-8519-4bfdab667e86"
      },
      "execution_count": 5,
      "outputs": [
        {
          "output_type": "stream",
          "name": "stdout",
          "text": [
            "Requirement already satisfied: yahooquery in /usr/local/lib/python3.11/dist-packages (2.3.7)\n",
            "Requirement already satisfied: beautifulsoup4<5.0.0,>=4.12.2 in /usr/local/lib/python3.11/dist-packages (from yahooquery) (4.13.3)\n",
            "Requirement already satisfied: lxml<5.0.0,>=4.9.3 in /usr/local/lib/python3.11/dist-packages (from yahooquery) (4.9.4)\n",
            "Requirement already satisfied: pandas<3.0.0,>=2.0.3 in /usr/local/lib/python3.11/dist-packages (from yahooquery) (2.2.2)\n",
            "Requirement already satisfied: requests<3.0.0,>=2.31.0 in /usr/local/lib/python3.11/dist-packages (from yahooquery) (2.32.3)\n",
            "Requirement already satisfied: requests-futures<2.0.0,>=1.0.1 in /usr/local/lib/python3.11/dist-packages (from yahooquery) (1.0.2)\n",
            "Requirement already satisfied: tqdm<5.0.0,>=4.65.0 in /usr/local/lib/python3.11/dist-packages (from yahooquery) (4.67.1)\n",
            "Requirement already satisfied: soupsieve>1.2 in /usr/local/lib/python3.11/dist-packages (from beautifulsoup4<5.0.0,>=4.12.2->yahooquery) (2.6)\n",
            "Requirement already satisfied: typing-extensions>=4.0.0 in /usr/local/lib/python3.11/dist-packages (from beautifulsoup4<5.0.0,>=4.12.2->yahooquery) (4.12.2)\n",
            "Requirement already satisfied: numpy>=1.23.2 in /usr/local/lib/python3.11/dist-packages (from pandas<3.0.0,>=2.0.3->yahooquery) (1.26.4)\n",
            "Requirement already satisfied: python-dateutil>=2.8.2 in /usr/local/lib/python3.11/dist-packages (from pandas<3.0.0,>=2.0.3->yahooquery) (2.8.2)\n",
            "Requirement already satisfied: pytz>=2020.1 in /usr/local/lib/python3.11/dist-packages (from pandas<3.0.0,>=2.0.3->yahooquery) (2025.1)\n",
            "Requirement already satisfied: tzdata>=2022.7 in /usr/local/lib/python3.11/dist-packages (from pandas<3.0.0,>=2.0.3->yahooquery) (2025.1)\n",
            "Requirement already satisfied: charset-normalizer<4,>=2 in /usr/local/lib/python3.11/dist-packages (from requests<3.0.0,>=2.31.0->yahooquery) (3.4.1)\n",
            "Requirement already satisfied: idna<4,>=2.5 in /usr/local/lib/python3.11/dist-packages (from requests<3.0.0,>=2.31.0->yahooquery) (3.10)\n",
            "Requirement already satisfied: urllib3<3,>=1.21.1 in /usr/local/lib/python3.11/dist-packages (from requests<3.0.0,>=2.31.0->yahooquery) (2.3.0)\n",
            "Requirement already satisfied: certifi>=2017.4.17 in /usr/local/lib/python3.11/dist-packages (from requests<3.0.0,>=2.31.0->yahooquery) (2025.1.31)\n",
            "Requirement already satisfied: six>=1.5 in /usr/local/lib/python3.11/dist-packages (from python-dateutil>=2.8.2->pandas<3.0.0,>=2.0.3->yahooquery) (1.17.0)\n"
          ]
        }
      ]
    },
    {
      "cell_type": "code",
      "source": [
        "#get stock from the user\n",
        "#It was asking me to put credit card info in...\n",
        "stock=input()\n",
        "\n",
        "\n",
        "apikey=\"ihBCrKGRAG2OY2LkqzuP88zBQjH8x4IQ1XCW2FYQ\"\n",
        "\n",
        "url = \"https://yfapi.net/v6/finance/quote?region=US&lang=en&symbols=AAPL%2CBTC-USD%2CEURUSD%3DX\"\n",
        "\n",
        "querystring = {\"symbols\":stock}\n",
        "\n",
        "headers = {\n",
        "    'x-api-key': apikey\n",
        "    }\n",
        "\n",
        "response = requests.request(\"GET\", url, headers=headers, params=querystring)\n",
        "\n",
        "print(response.text)\n",
        "\n",
        "\n",
        "#that's pretty ugly. we can do this\n",
        "print(json.dumps(response.json(), indent=4))"
      ],
      "metadata": {
        "colab": {
          "base_uri": "https://localhost:8080/"
        },
        "collapsed": true,
        "id": "Zwi7S8k_Fnms",
        "outputId": "c179b94b-cdc2-4797-b069-aa17c8994e6d"
      },
      "execution_count": 10,
      "outputs": [
        {
          "output_type": "stream",
          "name": "stdout",
          "text": [
            "MSFT\n",
            "{\"message\":\"Forbidden\",\"hint\":\"Sign up for API key https://financeapi.net/tutorial\"}\n",
            "{\n",
            "    \"message\": \"Forbidden\",\n",
            "    \"hint\": \"Sign up for API key https://financeapi.net/tutorial\"\n",
            "}\n"
          ]
        }
      ]
    },
    {
      "cell_type": "code",
      "source": [
        "#Having trouble getting output from API still (asking for my credit card info to make an account).\n",
        "#That being said, this code should still work for other parameters.\n",
        "def fetch_basic_stock_data(symbols):\n",
        "    stocks = Ticker(symbols)\n",
        "    summary = stocks.summary_detail\n",
        "    company_names = stocks.quote_type\n",
        "\n",
        "    for symbol in symbols.split():\n",
        "        try:\n",
        "            ticker = symbol.upper()\n",
        "            company = company_names[ticker]['longName']\n",
        "            price = summary[ticker]['regularMarketPrice']\n",
        "            print(f\"Stock Ticker: {ticker}, Company: {company}, Current Market Price: ${price}\")\n",
        "        except KeyError:\n",
        "            print(f\"Error fetching data for {symbol}\")"
      ],
      "metadata": {
        "id": "qgB2pimQIL_U"
      },
      "execution_count": null,
      "outputs": []
    },
    {
      "cell_type": "code",
      "source": [
        "def fetch_additional_stock_data(symbols, module):\n",
        "    stocks = Ticker(symbols)\n",
        "    data = stocks.asset_profile if module == 'ROA' else stocks.summary_detail\n",
        "\n",
        "    stock_info = []\n",
        "    for symbol in symbols.split():\n",
        "        try:\n",
        "            ticker = symbol.upper()\n",
        "            if module == '52 Week High':\n",
        "                value = data[ticker]['fiftyTwoWeekHigh']\n",
        "            elif module == '52 Week Low':\n",
        "                value = data[ticker]['fiftyTwoWeekLow']\n",
        "            elif module == 'ROA':\n",
        "                value = data[ticker]['returnOnAssets']\n",
        "            else:\n",
        "                value = 'Invalid Module'\n",
        "            stock_info.append([ticker, module, value])\n",
        "        except KeyError:\n",
        "            stock_info.append([symbol, module, 'N/A'])\n",
        "\n",
        "    df = pd.DataFrame(stock_info, columns=['Stock Ticker', 'Metric', 'Value'])\n",
        "    print(df)"
      ],
      "metadata": {
        "id": "KIrmxj2UIN5m"
      },
      "execution_count": null,
      "outputs": []
    },
    {
      "cell_type": "code",
      "source": [
        "def fetch_trending_stocks():\n",
        "    trending = Ticker('SPY').trending_tickers['quotes']\n",
        "    trending_data = []\n",
        "    for stock in trending[:5]:  # Limiting to 5 trending stocks for ease\n",
        "        try:\n",
        "            ticker = stock['symbol']\n",
        "            name = stock['shortName']\n",
        "            price = stock['regularMarketPrice']\n",
        "            high_52 = stock['fiftyTwoWeekHigh']\n",
        "            low_52 = stock['fiftyTwoWeekLow']\n",
        "            trending_data.append([ticker, name, price, high_52, low_52])\n",
        "        except KeyError:\n",
        "            continue\n",
        "\n",
        "    df = pd.DataFrame(trending_data, columns=['Ticker', 'Company', 'Price', '52W High', '52W Low'])\n",
        "    print(df)"
      ],
      "metadata": {
        "id": "gHH7wJuZIPU-"
      },
      "execution_count": null,
      "outputs": []
    },
    {
      "cell_type": "code",
      "source": [
        "def fetch_elon_plane():\n",
        "    url = \"https://opensky-network.org/api/states/all\"\n",
        "    response = requests.get(url).json()\n",
        "    for plane in response['states']:\n",
        "        if plane[1] and \"ElonJet\" in plane[1]:  # Assuming 'ElonJet'is used, kinda confused on where name would be found\n",
        "            print(f\"Elon's Plane is at Latitude: {plane[6]}, Longitude: {plane[5]}\")\n",
        "            return\n",
        "    print(\"Elon's plane not found\")\n",
        "\n",
        "if __name__ == \"__main__\":\n",
        "    symbols = input(\"Enter stock symbols separated by space: \")\n",
        "    fetch_basic_stock_data(symbols)\n",
        "\n",
        "    module = input(\"Choose a module (52 Week High, 52 Week Low, ROA): \")\n",
        "    fetch_additional_stock_data(symbols, module)\n",
        "\n",
        "    fetch_trending_stocks()\n",
        "    fetch_elon_plane()"
      ],
      "metadata": {
        "id": "Sg3f0WtOIQwU"
      },
      "execution_count": null,
      "outputs": []
    }
  ]
}